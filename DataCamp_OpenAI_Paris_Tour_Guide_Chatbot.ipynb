{
  "nbformat": 4,
  "nbformat_minor": 0,
  "metadata": {
    "colab": {
      "provenance": [],
      "authorship_tag": "ABX9TyMVqK2To/LZYJN3TAlafkN3",
      "include_colab_link": true
    },
    "kernelspec": {
      "name": "python3",
      "display_name": "Python 3"
    },
    "language_info": {
      "name": "python"
    }
  },
  "cells": [
    {
      "cell_type": "markdown",
      "metadata": {
        "id": "view-in-github",
        "colab_type": "text"
      },
      "source": [
        "<a href=\"https://colab.research.google.com/github/sarahlorenzen/OpenAI-Chatbot-Paris-Tour-Guide-/blob/main/DataCamp_OpenAI_Paris_Tour_Guide_Chatbot.ipynb\" target=\"_parent\"><img src=\"https://colab.research.google.com/assets/colab-badge.svg\" alt=\"Open In Colab\"/></a>"
      ]
    },
    {
      "cell_type": "code",
      "execution_count": null,
      "metadata": {
        "id": "AHx7ViVNnqLb"
      },
      "outputs": [],
      "source": [
        "# Start your code here!\n",
        "import os\n",
        "from openai import OpenAI\n",
        "\n",
        "# Define the model to use\n",
        "model = \"gpt-4o-mini\"\n",
        "\n",
        "# Define the client\n",
        "client = OpenAI(api_key=\"<OPENAI_API_TOKEN>\")"
      ]
    },
    {
      "cell_type": "code",
      "source": [
        "# system message to set model's behavior\n",
        "\n",
        "conversation = [\n",
        "               {\"role\": \"system\", \"content\": \"You are a helpful Travel Guide designed to provide information about landmarks that tourists should explore in Paris. You speak concisely.\"},\n",
        "               {\"role\": \"assistant\", \"content\": \"The most famous landmark in Paris is the Eiffel Tower.\"},\n",
        "               {\"role\": \"user\", \"content\": \"What is the most famous landmark in Paris?\"}\n",
        "               ]\n",
        "\n",
        "# define a list of questions\n",
        "\n",
        "questions = [\n",
        "    \"How far away is the Louvre from the Eiffel Tower (in miles) if you are driving?\",\n",
        "    \"Where is the Arc de Triomphe?\",\n",
        "    \"What are the must-see artworks at the Louvre Museum?\"\n",
        "    ]\n",
        "\n",
        "# Loop through each question to generate responses\n",
        "for q in questions:\n",
        "\n",
        "    # Format the user input into dictionary form\n",
        "    input_dict = {\"role\": \"user\", \"content\": q}\n",
        "\n",
        "    # Add the user input dictionary to the conversation\n",
        "    conversation.append(input_dict)\n",
        "\n",
        "    # Send the chat messages to the model - Make the next API call\n",
        "    response = client.chat.completions.create(\n",
        "        model=model,\n",
        "        messages=conversation,\n",
        "        temperature=0.0,\n",
        "        max_tokens=100\n",
        "    )\n",
        "\n",
        "    # Print the response from the model\n",
        "    resp = response.choices[0].message.content\n",
        "    print(resp)\n",
        "\n",
        "    # Convert the response into the dictionary\n",
        "    response_dict = {\"role\": \"assistant\", \"content\": response.choices[0].message.content}\n",
        "\n",
        "    # Append the response to the conversation\n",
        "    conversation.append(response_dict)\n"
      ],
      "metadata": {
        "id": "eRRwfedSn3oO"
      },
      "execution_count": null,
      "outputs": []
    }
  ]
}